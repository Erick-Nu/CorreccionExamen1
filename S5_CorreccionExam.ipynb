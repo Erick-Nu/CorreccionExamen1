{
 "cells": [
  {
   "cell_type": "code",
   "execution_count": 1,
   "metadata": {},
   "outputs": [],
   "source": [
    "import numpy as np\n",
    "import random"
   ]
  },
  {
   "cell_type": "code",
   "execution_count": 95,
   "metadata": {},
   "outputs": [
    {
     "name": "stdout",
     "output_type": "stream",
     "text": [
      "        [MATRIZ ONE]\n",
      "[[37  5  5  5  5  5  5  5  5 20]\n",
      " [ 5 79  5  5  5  5  5  5 92  5]\n",
      " [ 5  5 24  5  5  5  5 83  5  5]\n",
      " [ 5  5  5 28  5  5 33  5  5  5]\n",
      " [ 5  5  5  5 35 48  5  5  5  5]\n",
      " [ 5  5  5  5 48 67  5  5  5  5]\n",
      " [ 5  5  5 71  5  5 15  5  5  5]\n",
      " [ 5  5 24  5  5  5  5 70  5  5]\n",
      " [ 5 99  5  5  5  5  5  5 28  5]\n",
      " [26  5  5  5  5  5  5  5  5 65]]\n"
     ]
    }
   ],
   "source": [
    "# Crear dos matrices M1 y M2 de 10 x 10 con valores al azar en las diagonales y el resto de sus valores 5.\n",
    "dimensiones=(10,10)\n",
    "matrizOne = np.full(dimensiones,5)\n",
    "for i in range(10):\n",
    "    random = round(np.random.rand()*100)\n",
    "    matrizOne[i][i]= random\n",
    "acumulador = 9\n",
    "for j in range(10):\n",
    "    random = round(np.random.rand()*100)\n",
    "    matrizOne[acumulador][j] = random\n",
    "    acumulador -= 1\n",
    "print(\"        [MATRIZ ONE]\")\n",
    "print(matrizOne)"
   ]
  },
  {
   "cell_type": "code",
   "execution_count": 94,
   "metadata": {},
   "outputs": [
    {
     "name": "stdout",
     "output_type": "stream",
     "text": [
      "        [MATRIZ TWO]\n",
      "[[50  5  5  5  5  5  5  5  5 45]\n",
      " [ 5 34  5  5  5  5  5  5 32  5]\n",
      " [ 5  5  5  5  5  5  5 35  5  5]\n",
      " [ 5  5  5 59  5  5 78  5  5  5]\n",
      " [ 5  5  5  5 39 45  5  5  5  5]\n",
      " [ 5  5  5  5 96 11  5  5  5  5]\n",
      " [ 5  5  5 19  5  5 89  5  5  5]\n",
      " [ 5  5 83  5  5  5  5 33  5  5]\n",
      " [ 5 57  5  5  5  5  5  5  6  5]\n",
      " [83  5  5  5  5  5  5  5  5 26]]\n"
     ]
    }
   ],
   "source": [
    "dimensiones=(10,10)\n",
    "matrizTwo = np.full(dimensiones,5)\n",
    "for i in range(10):\n",
    "    random = round(np.random.rand()*100)\n",
    "    matrizTwo[i][i]= random\n",
    "acumulador = 9\n",
    "for j in range(10):\n",
    "    random = round(np.random.rand()*100)\n",
    "    matrizTwo[acumulador][j] = random\n",
    "    acumulador -= 1\n",
    "print(\"        [MATRIZ TWO]\")\n",
    "print(matrizTwo)"
   ]
  },
  {
   "cell_type": "code",
   "execution_count": 109,
   "metadata": {},
   "outputs": [
    {
     "name": "stdout",
     "output_type": "stream",
     "text": [
      "     [RESULTADOS OBTENIDOS]\n",
      "[TIME OF THE  MULTIPLICATION]: 0.16498565673828125\n",
      "[MATRIX OBTAINED]: \n",
      " [[3710  890  875  825 1110  715 1270  775  625 2385]\n",
      " [1670 8130 1445 1395 1680 1285 1840 1345 3280 1360]\n",
      " [1350 1140 7209 1075 1360  965 1520 3779  875 1040]\n",
      " [1120  910  895 2479 1130  735 5321  795  645  810]\n",
      " [1230 1020 1005  955 6173 2303 1400  905  755  920]\n",
      " [1390 1180 1165 1115 8504 3097 1560 1065  915 1080]\n",
      " [1245 1035 1020 4674 1255  860 7073  920  770  935]\n",
      " [1285 1075 6130 1010 1295  900 1455 3350  810  975]\n",
      " [1450 5162 1225 1175 1460 1065 1620 1125 3536 1140]\n",
      " [6895 1060 1045  995 1280  885 1440  945  795 3060]]\n",
      "[DO YOU WANT TO SAVE IT IN A FILE ?]\n",
      "[SAVE ARCHIV]\n"
     ]
    }
   ],
   "source": [
    "# •\tMultiplicar las matrices M1 y M2 del ejercicio anterior y registrar el tiempo que demora en un archivo de texto llamado “resultado1.txt”\n",
    "import time\n",
    "start=time.time()\n",
    "multiplicacion = np.dot(matrizOne,matrizTwo)\n",
    "finish = ((time.time()-start)*1000)\n",
    "print(\"     [RESULTADOS OBTENIDOS]\")\n",
    "print (f\"[TIME OF THE  MULTIPLICATION]: {finish}\")\n",
    "print (f\"[MATRIX OBTAINED]: \\n {multiplicacion}\")\n",
    "print(\"[DO YOU WANT TO SAVE IT IN A FILE ?]\")\n",
    "option = input(\"[YES] OR [NO]: \")\n",
    "if option.lower() == \"yes\":\n",
    "    # Guardamos en un archivo\n",
    "    with open('resultados1.txt', 'w') as resul:\n",
    "        resul.write(\"[MULTIPLICATION RESULTS]\\n\")\n",
    "        resul.write(f\"[THE TIMES IS]:  {finish}\\n\")\n",
    "        resul.write(f\"[THIS IS THE MATRIX]: \\n {multiplicacion}\")\n",
    "    print(\"[SAVE ARCHIV]\")\n",
    "else:\n",
    "    print(\"[THANKS]\")"
   ]
  },
  {
   "cell_type": "code",
   "execution_count": 176,
   "metadata": {},
   "outputs": [
    {
     "name": "stdout",
     "output_type": "stream",
     "text": [
      "       [MATRIZ THREE]\n",
      "[[20 10 31 45 36 81 88 57 64 61]\n",
      " [66  0  0  0  0  0  0  0  0 25]\n",
      " [28  0  0  0  0  0  0  0  0  1]\n",
      " [16  0  0  0  0  0  0  0  0 98]\n",
      " [ 0  0  0  0  0  0  0  0  0 54]\n",
      " [19  0  0  0  0  0  0  0  0 52]\n",
      " [29  0  0  0  0  0  0  0  0 35]\n",
      " [38  0  0  0  0  0  0  0  0 46]\n",
      " [57  0  0  0  0  0  0  0  0 71]\n",
      " [78 51 25 98 25 38 69 40 28  7]]\n"
     ]
    }
   ],
   "source": [
    "# •\tCrear una matriz M3 de 10x10 con valores al azar en los bordes y el interior con ceros.\n",
    "dimensiones = (10,10)\n",
    "matrizThree = np.full(dimensiones,0)\n",
    "# Fila 0 variacion el la columna\n",
    "for i in range(10):\n",
    "    matrizThree[0][i] = np.random.rand()*100\n",
    "# Fila 9 variacion el la columna\n",
    "for i in range(10):\n",
    "    matrizThree[-1][i] = np.random.rand()*100\n",
    "# Columna 0 variacion en las filas\n",
    "for i in range(10):\n",
    "    matrizThree[i][0] = np.random.rand()*100\n",
    " # Columna 9 variacion en las filas\n",
    "for i in range(10):\n",
    "    matrizThree[i][-1] = np.random.rand()*100\n",
    "print(\"       [MATRIZ THREE]\")\n",
    "print(matrizThree)\n"
   ]
  },
  {
   "cell_type": "code",
   "execution_count": 303,
   "metadata": {},
   "outputs": [
    {
     "name": "stdout",
     "output_type": "stream",
     "text": [
      "       [MATRIZ FOUR]\n",
      "[[ 0  0  0  0  0  0  0  0  0  0]\n",
      " [ 0 84 24 86  6 48 41 79 83  0]\n",
      " [ 0  1 88 40 47 43 27  0  5  0]\n",
      " [ 0 38 35 67 23 30 62 35 73  0]\n",
      " [ 0 26 60 99 24 44 87 49 63  0]\n",
      " [ 0 75 38 37 67 87 39 43 97  0]\n",
      " [ 0 95 49 75  1  3 73 84 85  0]\n",
      " [ 0  9 33 53 70 49 11 60 85  0]\n",
      " [ 0 20  7 61 37 32 21 39 83  0]\n",
      " [ 0  0  0  0  0  0  0  0  0  0]]\n"
     ]
    }
   ],
   "source": [
    "# •\tCrear una matriz M4 de 10x10 con ceros en los bordes y valores al azar en el interior.\n",
    "dimensiones = (10,10)\n",
    "matrizFour = np.full(dimensiones,0)\n",
    "fila = 1\n",
    "columna = 0\n",
    "while(columna != 8):\n",
    "    for i in range(8):\n",
    "        matrizFour [i+1][fila] = np.random.rand()*100\n",
    "    columna += 1\n",
    "    fila += 1\n",
    "print(\"       [MATRIZ FOUR]\")\n",
    "print(matrizFour)"
   ]
  },
  {
   "cell_type": "code",
   "execution_count": 306,
   "metadata": {},
   "outputs": [
    {
     "name": "stdout",
     "output_type": "stream",
     "text": [
      "     [RESULTADOS OBTENIDOS]\n",
      "[TIME OF THE  MULTIPLICATION]: 0.11110305786132812\n",
      "[MATRIX OBTAINED]: \n",
      " [[    0 19745 16422 25201 15289 16899 18723 20920 32032     0]\n",
      " [    0     0     0     0     0     0     0     0     0     0]\n",
      " [    0     0     0     0     0     0     0     0     0     0]\n",
      " [    0     0     0     0     0     0     0     0     0     0]\n",
      " [    0     0     0     0     0     0     0     0     0     0]\n",
      " [    0     0     0     0     0     0     0     0     0     0]\n",
      " [    0     0     0     0     0     0     0     0     0     0]\n",
      " [    0     0     0     0     0     0     0     0     0     0]\n",
      " [    0     0     0     0     0     0     0     0     0     0]\n",
      " [    0 19008 14695 24836 10786 13932 18564 19606 28362     0]]\n",
      "[DO YOU WANT TO SAVE IT IN A FILE ?]\n",
      "[SAVE ARCHIV]\n"
     ]
    }
   ],
   "source": [
    "# •\tMultiplicar las matrices M3 y M4 del ejercicio anterior y registrar el tiempo que demora en un archivo de texto llamado “resultado2.txt”\n",
    "import time\n",
    "start=time.time()\n",
    "multiplicacion = np.dot(matrizThree,matrizFour)\n",
    "finish = ((time.time()-start)*1000)\n",
    "print(\"     [RESULTADOS OBTENIDOS]\")\n",
    "print (f\"[TIME OF THE  MULTIPLICATION]: {finish}\")\n",
    "print (f\"[MATRIX OBTAINED]: \\n {multiplicacion}\")\n",
    "print(\"[DO YOU WANT TO SAVE IT IN A FILE ?]\")\n",
    "option = input(\"[YES] OR [NO]: \")\n",
    "if option.lower() == \"yes\":\n",
    "    # Guardamos en un archivo\n",
    "    with open('resultados2.txt', 'w') as resul:\n",
    "        resul.write(\"[MULTIPLICATION RESULTS]\\n\")\n",
    "        resul.write(f\"[THE TIMES IS]:  {finish}\\n\")\n",
    "        resul.write(f\"[THIS IS THE MATRIX]: \\n {multiplicacion}\")\n",
    "    print(\"[SAVE ARCHIV]\")\n",
    "else:\n",
    "    print(\"[THANKS]\")"
   ]
  },
  {
   "cell_type": "code",
   "execution_count": null,
   "metadata": {},
   "outputs": [
    {
     "name": "stdout",
     "output_type": "stream",
     "text": [
      "El libro cuenta con alrededor de: 90423 palabras, excluyendo las palbras menores a 5 letras\n"
     ]
    }
   ],
   "source": [
    "# Realizar el conteo de las palabras que contiene el libro, no debe tomar en cuenta las palabras cortas, eliminar del conteo las palabras menores a cinco caracteres de longitud.\n",
    "with open('3.- Proyecto G.txt', 'r', encoding='utf-8') as libro:\n",
    "    text = libro.read()\n",
    "words = np.array(text.lower().split())\n",
    "total_words = len(words)\n",
    "for palabra in words:\n",
    "    if len(palabra) <= 5:\n",
    "        total_words -= 1\n",
    "print(f\"El libro cuenta con alrededor de: {total_words} palabras, excluyendo las palbras menores a 5 letras\")"
   ]
  },
  {
   "cell_type": "code",
   "execution_count": 312,
   "metadata": {},
   "outputs": [
    {
     "name": "stdout",
     "output_type": "stream",
     "text": [
      "Se a guardado tu archivo\n"
     ]
    }
   ],
   "source": [
    "# •\tEl resultado debe guardarse en un archivo de texto\t llamado resultado3.txt, dicho archivo debe contener: \n",
    "# Su apellido-nombre, el tiempo que demoró en realizar el conteo, el número de palabras y la frecuencia de palabras.\n",
    "start=time.time()\n",
    "with open('3.- Proyecto G.txt', 'r', encoding='utf-8') as file:\n",
    "    text = file.read()\n",
    "words = np.array(text.lower().split())\n",
    "total_words = len(words)\n",
    "letter = input(\"[INGRESE LA PALABRA A BUSCAR EN EL LIBRO]: \")\n",
    "countFrecuencia = 0\n",
    "for palabra in words:\n",
    "    if len(palabra) <= 5:\n",
    "        total_words -= 1\n",
    "    if palabra == letter.lower():\n",
    "        countFrecuencia += 1\n",
    "finish = ((time.time()-start)*1000)\n",
    "with open('resultados3.txt', 'w') as resultado3:\n",
    "    resultado3.write(\"[ NUÑEZ ERICK (EJERCICIO LIBRO)]\\n\")\n",
    "    resultado3.write(f\"[TIME]: {finish}\\n\")\n",
    "    resultado3.write(f\"[NUMBER OF WORDS]: {total_words} words, excluyendo the words menores a 5 letras\\n\")\n",
    "    resultado3.write(f\"LA PALABRA [{letter}] APARECE: {countFrecuencia} veces\\n\")\n",
    "print(\"Se a guardado tu archivo\")"
   ]
  }
 ],
 "metadata": {
  "kernelspec": {
   "display_name": "Python 3",
   "language": "python",
   "name": "python3"
  },
  "language_info": {
   "codemirror_mode": {
    "name": "ipython",
    "version": 3
   },
   "file_extension": ".py",
   "mimetype": "text/x-python",
   "name": "python",
   "nbconvert_exporter": "python",
   "pygments_lexer": "ipython3",
   "version": "3.13.0"
  }
 },
 "nbformat": 4,
 "nbformat_minor": 2
}
